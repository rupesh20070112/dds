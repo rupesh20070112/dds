{
  "nbformat": 4,
  "nbformat_minor": 0,
  "metadata": {
    "colab": {
      "provenance": [],
      "include_colab_link": true
    },
    "kernelspec": {
      "name": "python3",
      "display_name": "Python 3"
    },
    "language_info": {
      "name": "python"
    }
  },
  "cells": [
    {
      "cell_type": "markdown",
      "metadata": {
        "id": "view-in-github",
        "colab_type": "text"
      },
      "source": [
        "<a href=\"https://colab.research.google.com/github/rupesh20070112/dds/blob/main/lab1.ipynb\" target=\"_parent\"><img src=\"https://colab.research.google.com/assets/colab-badge.svg\" alt=\"Open In Colab\"/></a>"
      ]
    },
    {
      "cell_type": "markdown",
      "source": [
        "# 🧪 Lab 1: Stack Using Array (303105202)\n",
        "\n",
        "## 🎯 Objective:\n",
        "Implement Stack and its operations like:\n",
        "- `push`\n",
        "- `pop`\n",
        "- `peek`\n",
        "- `traverse`\n",
        "- `search`\n",
        "\n",
        "✅ Using a **linear array** as per BTech syllabus  \n",
        "🛠️ Languages: Python (runs here), C (via GCC)"
      ],
      "metadata": {
        "id": "jdJX7GNhyi3g"
      }
    },
    {
      "cell_type": "code",
      "execution_count": null,
      "metadata": {
        "id": "wrONv57JyhIE"
      },
      "outputs": [],
      "source": [
        "\n",
        "# ✅ Python Implementation of Stack using List (Array)\n",
        "\n",
        "stack = []\n",
        "\n",
        "def push(value):\n",
        "    stack.append(value)\n",
        "\n",
        "def pop():\n",
        "    if not stack:\n",
        "        print(\"Stack Underflow\")\n",
        "    else:\n",
        "        print(\"Popped:\", stack.pop())\n",
        "\n",
        "def peek():\n",
        "    if not stack:\n",
        "        print(\"Stack is Empty\")\n",
        "    else:\n",
        "        print(\"Top Element:\", stack[-1])\n",
        "\n",
        "def traverse():\n",
        "    if not stack:\n",
        "        print(\"Stack is Empty\")\n",
        "    else:\n",
        "        print(\"Stack (Top to Bottom):\", stack[::-1])\n",
        "\n",
        "def search(value):\n",
        "    if value in stack:\n",
        "        pos = len(stack) - stack[::-1].index(value) - 1\n",
        "        print(f\"Found {value} at position {pos} from top\")\n",
        "    else:\n",
        "        print(f\"{value} not found in stack\")\n",
        "\n",
        "# 🔍 Test\n",
        "push(10)\n",
        "push(20)\n",
        "push(30)\n",
        "traverse()\n",
        "peek()\n",
        "search(20)\n",
        "pop()\n",
        "traverse()"
      ]
    },
    {
      "cell_type": "markdown",
      "source": [
        "---\n",
        "\n",
        "## 💻 Now Let’s Run the Same Logic in C\n",
        "\n",
        "Google Colab allows us to:\n",
        "1. Write C code to a file\n",
        "2. Compile it with `gcc`\n",
        "3. Execute it and see the output directly\n",
        "\n",
        "Let’s go!"
      ],
      "metadata": {
        "id": "bGWnfRVczHgu"
      }
    },
    {
      "cell_type": "code",
      "source": [
        "\n",
        "# Write the C program into a file\n",
        "c_code = \"\"\"\n",
        "#include <stdio.h>\n",
        "#define SIZE 100\n",
        "\n",
        "int stack[SIZE];\n",
        "int top = -1;\n",
        "\n",
        "void push(int value) {\n",
        "    if (top == SIZE - 1)\n",
        "        printf(\"Stack Overflow\\\\n\");\n",
        "    else\n",
        "        stack[++top] = value;\n",
        "}\n",
        "\n",
        "void pop() {\n",
        "    if (top == -1)\n",
        "        printf(\"Stack Underflow\\\\n\");\n",
        "    else\n",
        "        printf(\"Popped: %d\\\\n\", stack[top--]);\n",
        "}\n",
        "\n",
        "void peek() {\n",
        "    if (top == -1)\n",
        "        printf(\"Stack is Empty\\\\n\");\n",
        "    else\n",
        "        printf(\"Top Element: %d\\\\n\", stack[top]);\n",
        "}\n",
        "\n",
        "void traverse() {\n",
        "    if (top == -1)\n",
        "        printf(\"Stack is Empty\\\\n\");\n",
        "    else {\n",
        "        printf(\"Stack: \");\n",
        "        for (int i = top; i >= 0; i--)\n",
        "            printf(\"%d \", stack[i]);\n",
        "        printf(\"\\\\n\");\n",
        "    }\n",
        "}\n",
        "\n",
        "void search(int value) {\n",
        "    for (int i = top; i >= 0; i--) {\n",
        "        if (stack[i] == value) {\n",
        "            printf(\"Found %d at position %d from top\\\\n\", value, top - i);\n",
        "            return;\n",
        "        }\n",
        "    }\n",
        "    printf(\"%d not found in stack\\\\n\", value);\n",
        "}\n",
        "\n",
        "int main() {\n",
        "    push(10);\n",
        "    push(20);\n",
        "    push(30);\n",
        "    traverse();\n",
        "    peek();\n",
        "    search(20);\n",
        "    pop();\n",
        "    traverse();\n",
        "    return 0;\n",
        "}\n",
        "\"\"\"\n",
        "\n",
        "with open(\"stack_lab1.c\", \"w\") as f:\n",
        "    f.write(c_code)"
      ],
      "metadata": {
        "id": "8U5XW1_MzQ7h"
      },
      "execution_count": null,
      "outputs": []
    },
    {
      "cell_type": "code",
      "source": [
        "# Define the list\n",
        "my_list = [10, 20, 30, 40, 50]\n",
        "\n",
        "# Element to find\n",
        "target = 20\n",
        "\n",
        "# Check if the elment is in the list\n",
        "if target in my_list :\n",
        "  print(f\"{target} found at index{my_list.index(target)}\")\n",
        "else:\n",
        "  print(f\"{target} not found in the list\")"
      ],
      "metadata": {
        "id": "1cHxEjqr_3Qf",
        "outputId": "15ddb069-da16-4e6f-ecbb-eda5ecc9069b",
        "colab": {
          "base_uri": "https://localhost:8080/"
        }
      },
      "execution_count": 8,
      "outputs": [
        {
          "output_type": "stream",
          "name": "stdout",
          "text": [
            "20 found at index1\n"
          ]
        }
      ]
    },
    {
      "cell_type": "code",
      "source": [
        "# Write the C code to a file\n",
        "%%writefile find_element.c\n",
        "#include <stdio.h>\n",
        "\n",
        "int main() {\n",
        "  int list[] = {10, 20, 30, 40, 50};\n",
        "  int size = sizeof(list) / sizeof(list[10]);\n",
        "  int target = 20;\n",
        "  int found = 0;\n",
        "\n",
        "  for (int i = 0; i < size; i++) {\n",
        "    if (list[i] == target) {\n",
        "      printf(\"%d found at index %d\\n\", target, i);\n",
        "      found = 1;\n",
        "      break;\n",
        "    }\n",
        "  }\n",
        "\n",
        "  if (!found) {\n",
        "    printf(\"%d not found in the list\\n\", target);\n",
        "  }\n",
        "\n",
        "  return 0;\n",
        "}"
      ],
      "metadata": {
        "id": "dIcfLNitFJ-f",
        "outputId": "253b25a6-b126-41b8-a505-04716e3ea5eb",
        "colab": {
          "base_uri": "https://localhost:8080/"
        }
      },
      "execution_count": 14,
      "outputs": [
        {
          "output_type": "stream",
          "name": "stdout",
          "text": [
            "Overwriting find_element.c\n"
          ]
        }
      ]
    },
    {
      "cell_type": "code",
      "source": [
        "# compile the C code\n",
        "!gcc fine_element.c -o find_element\n",
        "\n",
        "# Run the compiled program\n",
        "!./find_element"
      ],
      "metadata": {
        "id": "NNfQaNc8Kj0s",
        "outputId": "ff4703cd-0f58-44e2-b0b0-ca661349b6d0",
        "colab": {
          "base_uri": "https://localhost:8080/"
        }
      },
      "execution_count": 15,
      "outputs": [
        {
          "output_type": "stream",
          "name": "stdout",
          "text": [
            "\u001b[01m\u001b[Kcc1:\u001b[m\u001b[K \u001b[01;31m\u001b[Kfatal error: \u001b[m\u001b[Kfine_element.c: No such file or directory\n",
            "compilation terminated.\n",
            "/bin/bash: line 1: ./find_element: No such file or directory\n"
          ]
        }
      ]
    },
    {
      "cell_type": "code",
      "source": [
        "# Compile the C program\n",
        "!gcc stack_lab1.c -o stack_lab1"
      ],
      "metadata": {
        "id": "peml3SpSzZBB",
        "outputId": "aef83d6c-2f8c-442c-fb33-6c30a6a18cad",
        "colab": {
          "base_uri": "https://localhost:8080/"
        }
      },
      "execution_count": 7,
      "outputs": [
        {
          "output_type": "stream",
          "name": "stdout",
          "text": [
            "\u001b[01m\u001b[Kcc1:\u001b[m\u001b[K \u001b[01;31m\u001b[Kfatal error: \u001b[m\u001b[Kstack_lab1.c: No such file or directory\n",
            "compilation terminated.\n"
          ]
        }
      ]
    },
    {
      "cell_type": "code",
      "source": [
        "# Run the compiled C executable\n",
        "!./stack_lab1"
      ],
      "metadata": {
        "id": "zEWLJ5g3zcpB",
        "outputId": "5260ffbe-52ac-47a2-a79f-c7f0af32683f",
        "colab": {
          "base_uri": "https://localhost:8080/"
        }
      },
      "execution_count": 3,
      "outputs": [
        {
          "output_type": "stream",
          "name": "stdout",
          "text": [
            "/bin/bash: line 1: ./stack_lab1: No such file or directory\n"
          ]
        }
      ]
    },
    {
      "cell_type": "markdown",
      "source": [],
      "metadata": {
        "id": "R_84iiVs0AXn"
      }
    }
  ]
}